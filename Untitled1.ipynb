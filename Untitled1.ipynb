{
 "cells": [
  {
   "cell_type": "markdown",
   "metadata": {
    "id": "Tk9XacJhrFLH"
   },
   "source": []
  },
  {
   "cell_type": "markdown",
   "metadata": {
    "id": "AytNIZhArIjf"
   },
   "source": [
    "#SESION 2 - 5/JUNIO/21\n"
   ]
  },
  {
   "cell_type": "markdown",
   "metadata": {
    "id": "ncZq2Yd6rUYu"
   },
   "source": [
    "#EJEMPLO 1"
   ]
  },
  {
   "cell_type": "code",
   "execution_count": 1,
   "metadata": {
    "colab": {
     "base_uri": "https://localhost:8080/"
    },
    "id": "4HsEi3B5nFCQ",
    "outputId": "81997501-61e5-47e6-bbc7-c1541c35c074"
   },
   "outputs": [
    {
     "name": "stdout",
     "output_type": "stream",
     "text": [
      "La witsi witsi araña\n",
      "subio a su telaraña\n",
      "\n",
      "vino la lluvia\n",
      "y se la llevo\n"
     ]
    }
   ],
   "source": [
    "print(\"La witsi witsi araña\",\"subio a su telaraña\",\"\",\"vino la lluvia\",\"y se la llevo\",sep=\"\\n\")\n"
   ]
  },
  {
   "cell_type": "markdown",
   "metadata": {
    "id": "ID83NQsjrbE_"
   },
   "source": [
    "#RETO 2"
   ]
  },
  {
   "cell_type": "code",
   "execution_count": 24,
   "metadata": {
    "colab": {
     "base_uri": "https://localhost:8080/"
    },
    "id": "cbhrSkQvrd1E",
    "outputId": "376b3b95-2d5b-42d4-ef65-c035a53d3482"
   },
   "outputs": [
    {
     "name": "stdout",
     "output_type": "stream",
     "text": [
      "MI-NOMBRE-ES-MONTY-PYTHON\n"
     ]
    }
   ],
   "source": [
    "print(\"MI\",\"NOMBRE\",\"ES\",\"MONTY\",\"PYTHON\",sep=\"-\")"
   ]
  },
  {
   "cell_type": "markdown",
   "metadata": {
    "id": "U46v_pLSsJtk"
   },
   "source": [
    "#BOOLEANOS"
   ]
  },
  {
   "cell_type": "code",
   "execution_count": 25,
   "metadata": {
    "colab": {
     "base_uri": "https://localhost:8080/"
    },
    "id": "jM64ITnWsMBy",
    "outputId": "65971c6f-4e91-430d-85b3-8ab7001966e3"
   },
   "outputs": [
    {
     "name": "stdout",
     "output_type": "stream",
     "text": [
      "True\n"
     ]
    }
   ],
   "source": [
    "print(True > False)\n"
   ]
  },
  {
   "cell_type": "markdown",
   "metadata": {
    "id": "9f0j1-YY20Ok"
   },
   "source": []
  },
  {
   "cell_type": "code",
   "execution_count": null,
   "metadata": {
    "id": "HiVXiktb4F9C"
   },
   "outputs": [],
   "source": []
  },
  {
   "cell_type": "code",
   "execution_count": 26,
   "metadata": {
    "colab": {
     "base_uri": "https://localhost:8080/"
    },
    "id": "Ht6dnAY_20pv",
    "outputId": "b1e421b2-a631-4d14-b135-7e5caf5e025c"
   },
   "outputs": [
    {
     "name": "stdout",
     "output_type": "stream",
     "text": [
      "7.38 millas son 11.81 kilometros\n",
      "12.25 kilometros son 7.61 millas\n"
     ]
    }
   ],
   "source": [
    "kilometros = 12.25\n",
    "millas = 7.38\n",
    "\n",
    "millas_a_kilometros = 1.6*millas\n",
    "kilometros_a_millas = 0.621371*kilometros\n",
    "\n",
    "print(millas,\"millas son\", round(millas_a_kilometros, 2),\"kilometros\")\n",
    "print(kilometros,\"kilometros son\", round(kilometros_a_millas,2), \"millas\")"
   ]
  },
  {
   "cell_type": "code",
   "execution_count": 2,
   "metadata": {
    "colab": {
     "base_uri": "https://localhost:8080/"
    },
    "id": "D1nTN53h74Iu",
    "outputId": "25cdff32-f6ac-486c-cb77-65445efcb904"
   },
   "outputs": [
    {
     "name": "stdout",
     "output_type": "stream",
     "text": [
      "dame la primer variable: 1.5\n",
      "dame la segunda variable: 0.5\n",
      "la suma es:  2.0\n",
      "la resta es:  1.0\n",
      "la multiplicacion es:  0.75\n",
      "la division es:  3.0\n"
     ]
    }
   ],
   "source": [
    "# ingresa un valor flotante para la variable a aquí\n",
    "# ingresa un valor flotante para la variable b aquí\n",
    "\n",
    "# muestra el resultado de la suma aquí \n",
    "# muestra el resultado de la resta aquí\n",
    "# muestra el resultado de la multiplicación aquí\n",
    "# muestra el resultado de la división aquí\n",
    "\n",
    "# print(\"\\n¡Eso es todo, amigos!\")\n",
    "\n",
    "x=float(input(\"dame la primer variable: \"))\n",
    "y=float(input(\"dame la segunda variable: \"))\n",
    "print(\"la suma es: \",x+y )\n",
    "print(\"la resta es: \",x-y)\n",
    "print(\"la multiplicacion es: \",x*y)\n",
    "print(\"la division es: \",x/y)\n",
    "\n",
    "\n",
    "\n"
   ]
  }
 ],
 "metadata": {
  "colab": {
   "name": "Untitled1.ipynb",
   "provenance": []
  },
  "kernelspec": {
   "display_name": "Python 3",
   "language": "python",
   "name": "python3"
  },
  "language_info": {
   "codemirror_mode": {
    "name": "ipython",
    "version": 3
   },
   "file_extension": ".py",
   "mimetype": "text/x-python",
   "name": "python",
   "nbconvert_exporter": "python",
   "pygments_lexer": "ipython3",
   "version": "3.8.8"
  }
 },
 "nbformat": 4,
 "nbformat_minor": 1
}
